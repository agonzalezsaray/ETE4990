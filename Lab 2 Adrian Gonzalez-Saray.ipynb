{
 "cells": [
  {
   "cell_type": "markdown",
   "id": "0209af47-6b8d-4f34-8292-aa79deef5088",
   "metadata": {},
   "source": [
    "# Lab 2 - Refactoring\n",
    "## Refactoring is:\n",
    "\n",
    "Refactoring is the process of restructuring or rewriting code, while not changing its original functionality. The goal of refactoring is to improve internal code by making many small changes without altering the code's external behavior. \n",
    "\n",
    "It is easier said than done. "
   ]
  },
  {
   "cell_type": "markdown",
   "id": "f470981d-7433-42f0-a742-a9ddeae57056",
   "metadata": {},
   "source": [
    "### Part 1 - Warm up\n",
    "\n",
    "You will refactor the following code:"
   ]
  },
  {
   "cell_type": "code",
   "execution_count": 2,
   "id": "b817e22e-46ae-4dfe-9a38-c3d3e818168b",
   "metadata": {},
   "outputs": [
    {
     "name": "stdout",
     "output_type": "stream",
     "text": [
      "Enter a number:  1\n"
     ]
    },
    {
     "name": "stdout",
     "output_type": "stream",
     "text": [
      "5 is more than 1\n"
     ]
    }
   ],
   "source": [
    "#stolen from https://realpython.com/python-refactoring/\n",
    "#yes you can go there and look at what they did no do it yourself\n",
    "x = 5\n",
    "value = input(\"Enter a number: \")\n",
    "y = int(value)\n",
    "if x < y:\n",
    "    print(f\"{x} is less than {y}\")\n",
    "elif x == y:\n",
    "    print(f\"{x} is equal to {y}\")\n",
    "else:\n",
    "    print(f\"{x} is more than {y}\")"
   ]
  },
  {
   "cell_type": "code",
   "execution_count": 3,
   "id": "033cf53c-96bc-4174-813d-09ad088787d6",
   "metadata": {},
   "outputs": [
    {
     "name": "stdout",
     "output_type": "stream",
     "text": [
      "5 is more than 1\n"
     ]
    }
   ],
   "source": [
    "value = int(input(\"Enter a number:\"))\n",
    "if value > 5:\n",
    "    print(\"5 is less than\", value)\n",
    "elif value == 5:\n",
    "    print(\"5 is equal to 5\")\n",
    "else:\n",
    "    print('5 is more than', value)\n"
   ]
  },
  {
   "cell_type": "markdown",
   "id": "bb9edc37-9bd7-4b4a-8ec1-d1465d85be37",
   "metadata": {},
   "source": [
    "## Part 2\n",
    "Refactor Lab 1 into a function that can be used over and over again"
   ]
  },
  {
   "cell_type": "code",
   "execution_count": 2,
   "id": "733c4d16-c02c-4058-9cb6-4b751c86dc93",
   "metadata": {},
   "outputs": [
    {
     "name": "stdout",
     "output_type": "stream",
     "text": [
      "Welcome to the dice match game. You and a computer will both roll 5 dice and the contestant with more matching dice will win.\n",
      "player one rolled: [6, 6, 1, 2, 2]\n",
      "the computer rolled: [5, 1, 1, 4, 5]\n",
      "You got 2 pairs and the computer got 2 pairs.\n",
      "Tie game. Maybe try again.\n",
      "You have played 1 times and won 0 times.\n",
      "Would you like to play again?\n",
      "Welcome to the dice match game. You and a computer will both roll 5 dice and the contestant with more matching dice will win.\n",
      "player one rolled: [1, 4, 1, 6, 1]\n",
      "the computer rolled: [6, 4, 4, 5, 3]\n",
      "You got 3 pairs and the computer got 1 pairs.\n",
      "Congrats, you win.\n",
      "You have played 2 times and won 1 times.\n",
      "Would you like to play again?\n",
      "Thanks for playing.\n"
     ]
    }
   ],
   "source": [
    "import random\n",
    "\n",
    "timesplayed = 0\n",
    "timeswon = 0\n",
    "\n",
    "def roll():\n",
    "    x = []\n",
    "    i = True\n",
    "    while i:\n",
    "        x.append(random.randint(1,6))\n",
    "        if len(x) == 5:\n",
    "            i = False\n",
    "    return x \n",
    "\n",
    "def pairs(x):\n",
    "    score = 0\n",
    "    for i in range(len(x)):\n",
    "        for j in range(i+1, len(x)):\n",
    "            if x[i] == x[j]:\n",
    "                score += 1\n",
    "    return score                   \n",
    "\n",
    "def results(x,y):\n",
    "    global timesplayed \n",
    "    timesplayed = timesplayed + 1\n",
    "    if x > y:\n",
    "        print(\"Congrats, you win.\")\n",
    "        global timeswon\n",
    "        timeswon = timeswon + 1\n",
    "    elif x == y:\n",
    "        print(\"Tie game. Maybe try again.\")\n",
    "    else:\n",
    "        print(\"YOU LOST HAHA\")\n",
    "    return\n",
    "\n",
    "def playagain():\n",
    "    print(\"You have played\", timesplayed, \"times and won\", timeswon, \"times.\")\n",
    "    print(\"Would you like to play again?\")\n",
    "    reply = input(\"Enter y for yes and n for no.\")\n",
    "    if reply == 'y':\n",
    "        main()   \n",
    "    elif reply == 'n':\n",
    "        print('Thanks for playing.')\n",
    "    else:\n",
    "        print('please enter a valid response.')\n",
    "        playagain()\n",
    "\n",
    "def main():\n",
    "    print(\"Welcome to the dice match game. You and a computer will both roll 5 dice and the contestant with more matching dice will win.\")\n",
    "    p1 = roll()\n",
    "    p2 = roll()\n",
    "    print('player one rolled:', p1)\n",
    "    print('the computer rolled:', p2)\n",
    "    p1score = pairs(p1)\n",
    "    p2score = pairs(p2)\n",
    "    print('You got', p1score, 'pairs and the computer got', p2score, 'pairs.')\n",
    "    results(p1score, p2score)     \n",
    "    \n",
    "    playagain()\n",
    "\n",
    "main() "
   ]
  },
  {
   "cell_type": "markdown",
   "id": "e589c6c8-f937-47e0-8db2-a37e03c12336",
   "metadata": {},
   "source": [
    "## Part 3 \n",
    "\n",
    "# But first a preview.... \n",
    "# Project #1  WIP This will change... \n",
    "\n",
    "You are project is to create a text based video game player profile, invintory system, and combat system. You must create a realistic player with at least 10 invintory items. Each item must have a discription and a trate assosiated with it. Have fun with this. \n",
    "\n",
    "You must use all items covered thus far (files (read and write), json, operators, lists, tuples(optional), functions, modules and classes)\n",
    "    \n",
    "- The adventure game should have the option to choose your player type\n",
    "  - Upon choosing your player type player atributes must be set ie wizard magic = 10, knight magic = 0 \n",
    "- Write a function to display the invintory of the player. \n",
    "- Write a function to get more detail on an item in the invintory.\n",
    "  - Knife \"forged in the depths of polymar\", +5 magic, edged weapon, one handed etc \n",
    "      - bonus points for calculating bonuses to wepons when equiping and dequiping \n",
    "- Write a function to add and remove items from the invintory\n",
    "- Ensure I am able to close the program and reload the character (ie files)\n",
    "    \n",
    "\n"
   ]
  },
  {
   "cell_type": "markdown",
   "id": "1fe3ba5e-722b-4ed8-b36f-c9ebd718bd7d",
   "metadata": {},
   "source": [
    "# Project 1 - Part 1\n",
    "Spend time planning out your code. You may work with your partner to plan out your code. How would you like your game to play? \n",
    "\n",
    "Use a UML planner like: \n",
    "\n",
    "\n",
    "https://miro.com/\n"
   ]
  },
  {
   "cell_type": "code",
   "execution_count": null,
   "id": "3bdce5be-0a31-4cf9-ba17-0f5be8cefc33",
   "metadata": {},
   "outputs": [],
   "source": []
  }
 ],
 "metadata": {
  "kernelspec": {
   "display_name": "Python 3 (ipykernel)",
   "language": "python",
   "name": "python3"
  },
  "language_info": {
   "codemirror_mode": {
    "name": "ipython",
    "version": 3
   },
   "file_extension": ".py",
   "mimetype": "text/x-python",
   "name": "python",
   "nbconvert_exporter": "python",
   "pygments_lexer": "ipython3",
   "version": "3.12.1"
  }
 },
 "nbformat": 4,
 "nbformat_minor": 5
}
